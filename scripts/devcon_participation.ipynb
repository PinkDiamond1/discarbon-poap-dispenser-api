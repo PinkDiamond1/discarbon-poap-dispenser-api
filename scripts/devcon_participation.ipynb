{
 "cells": [
  {
   "cell_type": "code",
   "execution_count": 4,
   "metadata": {},
   "outputs": [
    {
     "name": "stdout",
     "output_type": "stream",
     "text": [
      "Connected: True, block number: 34397091\n"
     ]
    }
   ],
   "source": [
    "import os\n",
    "import json\n",
    "import requests\n",
    "from web3 import Web3\n",
    "from dotenv import load_dotenv\n",
    "\n",
    "load_dotenv()\n",
    "\n",
    "rpc_url = \"https://poly-rpc.gateway.pokt.network/\"\n",
    "web3 = Web3(Web3.HTTPProvider(rpc_url))\n",
    "block_number = web3.eth.blockNumber\n",
    "print(f\"Connected: {web3.isConnected()}, block number: {block_number}\")\n"
   ]
  },
  {
   "cell_type": "code",
   "execution_count": 5,
   "metadata": {},
   "outputs": [],
   "source": [
    "contract_address = Web3.toChecksumAddress(\"0xb6A5D547d0A325Ffa0357E2698eB76E165b606BA\")\n",
    "abi_filename = (\n",
    "    \"../resources/71937/Devcon_Offset_Pool_0xb6A5D547d0A325Ffa0357E2698eB76E165b606BA.json\"\n",
    ")\n",
    "\n",
    "def load_abi(filename):\n",
    "    with open(filename, \"r\") as f:\n",
    "        abi = json.load(f)\n",
    "    return abi\n",
    "\n",
    "abi = load_abi(abi_filename)\n",
    "pooling_contract = web3.eth.contract(address=contract_address, abi=abi)"
   ]
  },
  {
   "cell_type": "code",
   "execution_count": 6,
   "metadata": {},
   "outputs": [
    {
     "name": "stdout",
     "output_type": "stream",
     "text": [
      "Contributor count:  168\n",
      "Amount of NCT contributed: 369.953925268267454384\n"
     ]
    }
   ],
   "source": [
    "contributor_addresses = pooling_contract.functions.getContributorsAddresses().call()\n",
    "contributed_nct = pooling_contract.functions.totalCarbonPooled().call()\n",
    "\n",
    "print(\"Contributor count: \", len(contributor_addresses))\n",
    "print(\"Amount of NCT contributed:\", web3.fromWei(contributed_nct, \"ether\"))"
   ]
  },
  {
   "cell_type": "code",
   "execution_count": 7,
   "metadata": {},
   "outputs": [
    {
     "name": "stdout",
     "output_type": "stream",
     "text": [
      "Getting... https://api.polygonscan.com/api?module=account&action=txlist&address=0xb6A5D547d0A325Ffa0357E2698eB76E165b606BA&startblock=33870323&endblock=34397093&sort=asc&apikey=221BQBBF24Q657NBSGTSEHW4IXZ6EDU812\n",
      "200\n"
     ]
    }
   ],
   "source": [
    "api_key = os.environ.get(\"POLYGONSCAN_API_KEY\")\n",
    "if not api_key:\n",
    "    print(\"error: please add your polygonscan api key to the .env\")\n",
    "deployment_block_number = 33870323\n",
    "current_block_number = web3.eth.blockNumber\n",
    "base_url = \"https://api.polygonscan.com/api?\"\n",
    "params = (f\"module=account\"\n",
    "            f\"&action=txlist\"\n",
    "            f\"&address={contract_address}\"\n",
    "            f\"&startblock={deployment_block_number}\"\n",
    "            f\"&endblock={current_block_number}\"\n",
    "            f\"&sort=asc\"\n",
    "            f\"&apikey={api_key}\")\n",
    "print(\"Getting...\", base_url + params)\n",
    "response = requests.get(base_url + params)\n",
    "print(response.status_code)\n",
    "assert response.status_code == 200, f\"Oops, request unsuccessful, {response.reason}\"\n"
   ]
  },
  {
   "cell_type": "code",
   "execution_count": 8,
   "metadata": {},
   "outputs": [
    {
     "name": "stdout",
     "output_type": "stream",
     "text": [
      "Transaction count 176\n",
      "atInversebrah(int248 a, uint48[] b, uint32 c, bytes20[] d, bytes30[] e)\n",
      "txn_error 0\n"
     ]
    }
   ],
   "source": [
    "import pandas as pd\n",
    "response_content = json.loads(response.content)\n",
    "transaction_list = response_content['result']\n",
    "print(\"Transaction count\", len(transaction_list))\n",
    "\n",
    "erc20_names = {\n",
    "    \"0xD838290e877E0188a4A44700463419ED96c16107\": \"NCT\",\n",
    "    \"0x2791Bca1f2de4661ED88A30C99A7a9449Aa84174\": \"USDC\",\n",
    "    \"0x8f3Cf7ad23Cd3CaDbD9735AFf958023239c6A063\": \"DAI\",\n",
    "    \"0x7ceB23fD6bC0adD59E62ac25578270cFf1b9f619\": \"WETH\",\n",
    "    \"0x0d500B1d8E8eF31E21C99d1Db9A6444d3ADf1270\": \"WMATIC\",\n",
    "    }\n",
    "\n",
    "erc20_count = 0\n",
    "matic_count = 0\n",
    "matic_sent = 0\n",
    "txn_error_count = 0\n",
    "data = []\n",
    "for txn in transaction_list:\n",
    "    if int(txn[\"isError\"]):\n",
    "        txn_error_count += 1\n",
    "        continue\n",
    "    if txn['functionName'].startswith(\"participateWithToken\"):\n",
    "        erc20_count += 1\n",
    "        for erc20_address, erc20_name in erc20_names.items():\n",
    "            # amount_nct = \n",
    "            if erc20_address == Web3.toChecksumAddress(txn[\"input\"][34:74]):\n",
    "                if erc20_name == \"USDC\":\n",
    "                    decimals = 6\n",
    "                else:\n",
    "                    decimals = 18\n",
    "                data.append(\n",
    "                    {\"token\": erc20_name, \n",
    "                     \"amount\": int(txn['value'])/10**decimals,\n",
    "                     \"blocknumber\": int(txn['blockNumber']),\n",
    "                     \"timestamp\": int(txn[\"timeStamp\"]),\n",
    "                     \"nonce\": int(txn[\"nonce\"]),\n",
    "                     \"from\": Web3.toChecksumAddress(txn[\"from\"]),\n",
    "                     \"amount NCT\": None\n",
    "                    }\n",
    "                    )\n",
    "    elif txn['functionName'].startswith(\"participateWithMatic\"):\n",
    "        data.append(\n",
    "            {\"token\": \"MATIC\", \n",
    "             \"amount\": int(txn['value'])/10**18,\n",
    "             \"blocknumber\": int(txn['blockNumber']),\n",
    "             \"timestamp\": int(txn[\"timeStamp\"]),\n",
    "             \"nonce\": int(txn[\"nonce\"]),\n",
    "             \"from\": Web3.toChecksumAddress(txn[\"from\"]),\n",
    "             \"amount NCT\": None\n",
    "            }\n",
    "        )\n",
    "        matic_sent += int(txn['value'])\n",
    "    else:\n",
    "        print(txn['functionName'])\n",
    "print(\"txn_error\", txn_error_count)\n",
    "df = pd.DataFrame(data)"
   ]
  },
  {
   "cell_type": "code",
   "execution_count": 9,
   "metadata": {},
   "outputs": [
    {
     "data": {
      "application/vnd.plotly.v1+json": {
       "config": {
        "plotlyServerURL": "https://plot.ly"
       },
       "data": [
        {
         "domain": {
          "x": [
           0,
           1
          ],
          "y": [
           0,
           1
          ]
         },
         "hovertemplate": "label=%{label}<br>value=%{value}<extra></extra>",
         "labels": [
          "MATIC",
          "USDC",
          "DAI",
          "WETH",
          "NCT",
          "WMATIC"
         ],
         "legendgroup": "",
         "name": "",
         "showlegend": true,
         "textinfo": "label+value",
         "textposition": "inside",
         "title": {
          "font": {
           "size": 24
          }
         },
         "type": "pie",
         "values": [
          147,
          8,
          8,
          8,
          3,
          1
         ]
        }
       ],
       "layout": {
        "height": 800,
        "legend": {
         "tracegroupgap": 0
        },
        "template": {
         "data": {
          "bar": [
           {
            "error_x": {
             "color": "#2a3f5f"
            },
            "error_y": {
             "color": "#2a3f5f"
            },
            "marker": {
             "line": {
              "color": "#E5ECF6",
              "width": 0.5
             },
             "pattern": {
              "fillmode": "overlay",
              "size": 10,
              "solidity": 0.2
             }
            },
            "type": "bar"
           }
          ],
          "barpolar": [
           {
            "marker": {
             "line": {
              "color": "#E5ECF6",
              "width": 0.5
             },
             "pattern": {
              "fillmode": "overlay",
              "size": 10,
              "solidity": 0.2
             }
            },
            "type": "barpolar"
           }
          ],
          "carpet": [
           {
            "aaxis": {
             "endlinecolor": "#2a3f5f",
             "gridcolor": "white",
             "linecolor": "white",
             "minorgridcolor": "white",
             "startlinecolor": "#2a3f5f"
            },
            "baxis": {
             "endlinecolor": "#2a3f5f",
             "gridcolor": "white",
             "linecolor": "white",
             "minorgridcolor": "white",
             "startlinecolor": "#2a3f5f"
            },
            "type": "carpet"
           }
          ],
          "choropleth": [
           {
            "colorbar": {
             "outlinewidth": 0,
             "ticks": ""
            },
            "type": "choropleth"
           }
          ],
          "contour": [
           {
            "colorbar": {
             "outlinewidth": 0,
             "ticks": ""
            },
            "colorscale": [
             [
              0,
              "#0d0887"
             ],
             [
              0.1111111111111111,
              "#46039f"
             ],
             [
              0.2222222222222222,
              "#7201a8"
             ],
             [
              0.3333333333333333,
              "#9c179e"
             ],
             [
              0.4444444444444444,
              "#bd3786"
             ],
             [
              0.5555555555555556,
              "#d8576b"
             ],
             [
              0.6666666666666666,
              "#ed7953"
             ],
             [
              0.7777777777777778,
              "#fb9f3a"
             ],
             [
              0.8888888888888888,
              "#fdca26"
             ],
             [
              1,
              "#f0f921"
             ]
            ],
            "type": "contour"
           }
          ],
          "contourcarpet": [
           {
            "colorbar": {
             "outlinewidth": 0,
             "ticks": ""
            },
            "type": "contourcarpet"
           }
          ],
          "heatmap": [
           {
            "colorbar": {
             "outlinewidth": 0,
             "ticks": ""
            },
            "colorscale": [
             [
              0,
              "#0d0887"
             ],
             [
              0.1111111111111111,
              "#46039f"
             ],
             [
              0.2222222222222222,
              "#7201a8"
             ],
             [
              0.3333333333333333,
              "#9c179e"
             ],
             [
              0.4444444444444444,
              "#bd3786"
             ],
             [
              0.5555555555555556,
              "#d8576b"
             ],
             [
              0.6666666666666666,
              "#ed7953"
             ],
             [
              0.7777777777777778,
              "#fb9f3a"
             ],
             [
              0.8888888888888888,
              "#fdca26"
             ],
             [
              1,
              "#f0f921"
             ]
            ],
            "type": "heatmap"
           }
          ],
          "heatmapgl": [
           {
            "colorbar": {
             "outlinewidth": 0,
             "ticks": ""
            },
            "colorscale": [
             [
              0,
              "#0d0887"
             ],
             [
              0.1111111111111111,
              "#46039f"
             ],
             [
              0.2222222222222222,
              "#7201a8"
             ],
             [
              0.3333333333333333,
              "#9c179e"
             ],
             [
              0.4444444444444444,
              "#bd3786"
             ],
             [
              0.5555555555555556,
              "#d8576b"
             ],
             [
              0.6666666666666666,
              "#ed7953"
             ],
             [
              0.7777777777777778,
              "#fb9f3a"
             ],
             [
              0.8888888888888888,
              "#fdca26"
             ],
             [
              1,
              "#f0f921"
             ]
            ],
            "type": "heatmapgl"
           }
          ],
          "histogram": [
           {
            "marker": {
             "pattern": {
              "fillmode": "overlay",
              "size": 10,
              "solidity": 0.2
             }
            },
            "type": "histogram"
           }
          ],
          "histogram2d": [
           {
            "colorbar": {
             "outlinewidth": 0,
             "ticks": ""
            },
            "colorscale": [
             [
              0,
              "#0d0887"
             ],
             [
              0.1111111111111111,
              "#46039f"
             ],
             [
              0.2222222222222222,
              "#7201a8"
             ],
             [
              0.3333333333333333,
              "#9c179e"
             ],
             [
              0.4444444444444444,
              "#bd3786"
             ],
             [
              0.5555555555555556,
              "#d8576b"
             ],
             [
              0.6666666666666666,
              "#ed7953"
             ],
             [
              0.7777777777777778,
              "#fb9f3a"
             ],
             [
              0.8888888888888888,
              "#fdca26"
             ],
             [
              1,
              "#f0f921"
             ]
            ],
            "type": "histogram2d"
           }
          ],
          "histogram2dcontour": [
           {
            "colorbar": {
             "outlinewidth": 0,
             "ticks": ""
            },
            "colorscale": [
             [
              0,
              "#0d0887"
             ],
             [
              0.1111111111111111,
              "#46039f"
             ],
             [
              0.2222222222222222,
              "#7201a8"
             ],
             [
              0.3333333333333333,
              "#9c179e"
             ],
             [
              0.4444444444444444,
              "#bd3786"
             ],
             [
              0.5555555555555556,
              "#d8576b"
             ],
             [
              0.6666666666666666,
              "#ed7953"
             ],
             [
              0.7777777777777778,
              "#fb9f3a"
             ],
             [
              0.8888888888888888,
              "#fdca26"
             ],
             [
              1,
              "#f0f921"
             ]
            ],
            "type": "histogram2dcontour"
           }
          ],
          "mesh3d": [
           {
            "colorbar": {
             "outlinewidth": 0,
             "ticks": ""
            },
            "type": "mesh3d"
           }
          ],
          "parcoords": [
           {
            "line": {
             "colorbar": {
              "outlinewidth": 0,
              "ticks": ""
             }
            },
            "type": "parcoords"
           }
          ],
          "pie": [
           {
            "automargin": true,
            "type": "pie"
           }
          ],
          "scatter": [
           {
            "fillpattern": {
             "fillmode": "overlay",
             "size": 10,
             "solidity": 0.2
            },
            "type": "scatter"
           }
          ],
          "scatter3d": [
           {
            "line": {
             "colorbar": {
              "outlinewidth": 0,
              "ticks": ""
             }
            },
            "marker": {
             "colorbar": {
              "outlinewidth": 0,
              "ticks": ""
             }
            },
            "type": "scatter3d"
           }
          ],
          "scattercarpet": [
           {
            "marker": {
             "colorbar": {
              "outlinewidth": 0,
              "ticks": ""
             }
            },
            "type": "scattercarpet"
           }
          ],
          "scattergeo": [
           {
            "marker": {
             "colorbar": {
              "outlinewidth": 0,
              "ticks": ""
             }
            },
            "type": "scattergeo"
           }
          ],
          "scattergl": [
           {
            "marker": {
             "colorbar": {
              "outlinewidth": 0,
              "ticks": ""
             }
            },
            "type": "scattergl"
           }
          ],
          "scattermapbox": [
           {
            "marker": {
             "colorbar": {
              "outlinewidth": 0,
              "ticks": ""
             }
            },
            "type": "scattermapbox"
           }
          ],
          "scatterpolar": [
           {
            "marker": {
             "colorbar": {
              "outlinewidth": 0,
              "ticks": ""
             }
            },
            "type": "scatterpolar"
           }
          ],
          "scatterpolargl": [
           {
            "marker": {
             "colorbar": {
              "outlinewidth": 0,
              "ticks": ""
             }
            },
            "type": "scatterpolargl"
           }
          ],
          "scatterternary": [
           {
            "marker": {
             "colorbar": {
              "outlinewidth": 0,
              "ticks": ""
             }
            },
            "type": "scatterternary"
           }
          ],
          "surface": [
           {
            "colorbar": {
             "outlinewidth": 0,
             "ticks": ""
            },
            "colorscale": [
             [
              0,
              "#0d0887"
             ],
             [
              0.1111111111111111,
              "#46039f"
             ],
             [
              0.2222222222222222,
              "#7201a8"
             ],
             [
              0.3333333333333333,
              "#9c179e"
             ],
             [
              0.4444444444444444,
              "#bd3786"
             ],
             [
              0.5555555555555556,
              "#d8576b"
             ],
             [
              0.6666666666666666,
              "#ed7953"
             ],
             [
              0.7777777777777778,
              "#fb9f3a"
             ],
             [
              0.8888888888888888,
              "#fdca26"
             ],
             [
              1,
              "#f0f921"
             ]
            ],
            "type": "surface"
           }
          ],
          "table": [
           {
            "cells": {
             "fill": {
              "color": "#EBF0F8"
             },
             "line": {
              "color": "white"
             }
            },
            "header": {
             "fill": {
              "color": "#C8D4E3"
             },
             "line": {
              "color": "white"
             }
            },
            "type": "table"
           }
          ]
         },
         "layout": {
          "annotationdefaults": {
           "arrowcolor": "#2a3f5f",
           "arrowhead": 0,
           "arrowwidth": 1
          },
          "autotypenumbers": "strict",
          "coloraxis": {
           "colorbar": {
            "outlinewidth": 0,
            "ticks": ""
           }
          },
          "colorscale": {
           "diverging": [
            [
             0,
             "#8e0152"
            ],
            [
             0.1,
             "#c51b7d"
            ],
            [
             0.2,
             "#de77ae"
            ],
            [
             0.3,
             "#f1b6da"
            ],
            [
             0.4,
             "#fde0ef"
            ],
            [
             0.5,
             "#f7f7f7"
            ],
            [
             0.6,
             "#e6f5d0"
            ],
            [
             0.7,
             "#b8e186"
            ],
            [
             0.8,
             "#7fbc41"
            ],
            [
             0.9,
             "#4d9221"
            ],
            [
             1,
             "#276419"
            ]
           ],
           "sequential": [
            [
             0,
             "#0d0887"
            ],
            [
             0.1111111111111111,
             "#46039f"
            ],
            [
             0.2222222222222222,
             "#7201a8"
            ],
            [
             0.3333333333333333,
             "#9c179e"
            ],
            [
             0.4444444444444444,
             "#bd3786"
            ],
            [
             0.5555555555555556,
             "#d8576b"
            ],
            [
             0.6666666666666666,
             "#ed7953"
            ],
            [
             0.7777777777777778,
             "#fb9f3a"
            ],
            [
             0.8888888888888888,
             "#fdca26"
            ],
            [
             1,
             "#f0f921"
            ]
           ],
           "sequentialminus": [
            [
             0,
             "#0d0887"
            ],
            [
             0.1111111111111111,
             "#46039f"
            ],
            [
             0.2222222222222222,
             "#7201a8"
            ],
            [
             0.3333333333333333,
             "#9c179e"
            ],
            [
             0.4444444444444444,
             "#bd3786"
            ],
            [
             0.5555555555555556,
             "#d8576b"
            ],
            [
             0.6666666666666666,
             "#ed7953"
            ],
            [
             0.7777777777777778,
             "#fb9f3a"
            ],
            [
             0.8888888888888888,
             "#fdca26"
            ],
            [
             1,
             "#f0f921"
            ]
           ]
          },
          "colorway": [
           "#636efa",
           "#EF553B",
           "#00cc96",
           "#ab63fa",
           "#FFA15A",
           "#19d3f3",
           "#FF6692",
           "#B6E880",
           "#FF97FF",
           "#FECB52"
          ],
          "font": {
           "color": "#2a3f5f"
          },
          "geo": {
           "bgcolor": "white",
           "lakecolor": "white",
           "landcolor": "#E5ECF6",
           "showlakes": true,
           "showland": true,
           "subunitcolor": "white"
          },
          "hoverlabel": {
           "align": "left"
          },
          "hovermode": "closest",
          "mapbox": {
           "style": "light"
          },
          "paper_bgcolor": "white",
          "plot_bgcolor": "#E5ECF6",
          "polar": {
           "angularaxis": {
            "gridcolor": "white",
            "linecolor": "white",
            "ticks": ""
           },
           "bgcolor": "#E5ECF6",
           "radialaxis": {
            "gridcolor": "white",
            "linecolor": "white",
            "ticks": ""
           }
          },
          "scene": {
           "xaxis": {
            "backgroundcolor": "#E5ECF6",
            "gridcolor": "white",
            "gridwidth": 2,
            "linecolor": "white",
            "showbackground": true,
            "ticks": "",
            "zerolinecolor": "white"
           },
           "yaxis": {
            "backgroundcolor": "#E5ECF6",
            "gridcolor": "white",
            "gridwidth": 2,
            "linecolor": "white",
            "showbackground": true,
            "ticks": "",
            "zerolinecolor": "white"
           },
           "zaxis": {
            "backgroundcolor": "#E5ECF6",
            "gridcolor": "white",
            "gridwidth": 2,
            "linecolor": "white",
            "showbackground": true,
            "ticks": "",
            "zerolinecolor": "white"
           }
          },
          "shapedefaults": {
           "line": {
            "color": "#2a3f5f"
           }
          },
          "ternary": {
           "aaxis": {
            "gridcolor": "white",
            "linecolor": "white",
            "ticks": ""
           },
           "baxis": {
            "gridcolor": "white",
            "linecolor": "white",
            "ticks": ""
           },
           "bgcolor": "#E5ECF6",
           "caxis": {
            "gridcolor": "white",
            "linecolor": "white",
            "ticks": ""
           }
          },
          "title": {
           "x": 0.05
          },
          "xaxis": {
           "automargin": true,
           "gridcolor": "white",
           "linecolor": "white",
           "ticks": "",
           "title": {
            "standoff": 15
           },
           "zerolinecolor": "white",
           "zerolinewidth": 2
          },
          "yaxis": {
           "automargin": true,
           "gridcolor": "white",
           "linecolor": "white",
           "ticks": "",
           "title": {
            "standoff": 15
           },
           "zerolinecolor": "white",
           "zerolinewidth": 2
          }
         }
        },
        "title": {
         "text": "Climate Friendly Devcon Token Usage"
        },
        "width": 800
       }
      }
     },
     "metadata": {},
     "output_type": "display_data"
    }
   ],
   "source": [
    "import plotly.express as px\n",
    "import random\n",
    "\n",
    "fig1 = px.pie(df.token, values=df.token.value_counts().values, names=df.token.value_counts().index, title = 'Climate Friendly Devcon Token Usage', width=800, height=800)\n",
    "fig1.update_traces(title_font = dict(size=24), textinfo='label+value', textposition='inside')\n",
    "fig1.show()"
   ]
  },
  {
   "cell_type": "code",
   "execution_count": 14,
   "metadata": {},
   "outputs": [
    {
     "data": {
      "application/vnd.plotly.v1+json": {
       "config": {
        "plotlyServerURL": "https://plot.ly"
       },
       "data": [
        {
         "alignmentgroup": "True",
         "bingroup": "x",
         "histfunc": "sum",
         "hovertemplate": "timestamp=%{x}<br>sum of amount=%{y}<extra></extra>",
         "legendgroup": "",
         "marker": {
          "color": "#636efa",
          "pattern": {
           "shape": ""
          }
         },
         "name": "",
         "offsetgroup": "",
         "orientation": "v",
         "showlegend": false,
         "type": "histogram",
         "x": [
          "2022-10-04T13:36:07",
          "2022-10-04T16:35:34",
          "2022-10-04T19:08:49",
          "2022-10-04T19:09:37",
          "2022-10-04T19:18:03",
          "2022-10-04T19:31:55",
          "2022-10-04T19:42:39",
          "2022-10-04T19:44:41",
          "2022-10-04T19:47:07",
          "2022-10-04T19:59:09",
          "2022-10-04T20:18:31",
          "2022-10-04T21:03:26",
          "2022-10-05T08:50:06",
          "2022-10-05T12:29:43",
          "2022-10-06T02:23:32",
          "2022-10-06T03:00:04",
          "2022-10-06T22:50:13",
          "2022-10-07T00:07:07",
          "2022-10-07T00:17:15",
          "2022-10-07T00:17:27",
          "2022-10-07T00:21:19",
          "2022-10-07T00:29:16",
          "2022-10-07T00:32:36",
          "2022-10-07T00:34:52",
          "2022-10-07T00:35:36",
          "2022-10-07T00:59:39",
          "2022-10-07T01:16:37",
          "2022-10-07T01:38:17",
          "2022-10-07T01:55:31",
          "2022-10-07T02:32:25",
          "2022-10-07T02:44:45",
          "2022-10-07T02:45:43",
          "2022-10-07T02:46:27",
          "2022-10-07T03:12:27",
          "2022-10-07T03:14:35",
          "2022-10-07T03:42:23",
          "2022-10-07T03:59:25",
          "2022-10-07T04:03:43",
          "2022-10-07T04:04:49",
          "2022-10-07T04:05:37",
          "2022-10-07T04:44:13",
          "2022-10-07T05:42:39",
          "2022-10-07T06:26:43",
          "2022-10-07T06:39:05",
          "2022-10-07T06:44:00",
          "2022-10-07T07:29:32",
          "2022-10-07T07:56:12",
          "2022-10-07T07:57:06",
          "2022-10-07T08:14:30",
          "2022-10-07T08:18:50",
          "2022-10-07T09:07:18",
          "2022-10-07T09:10:18",
          "2022-10-07T09:22:58",
          "2022-10-07T10:12:11",
          "2022-10-07T10:31:15",
          "2022-10-07T10:34:09",
          "2022-10-07T10:35:03",
          "2022-10-07T11:06:40",
          "2022-10-07T11:26:08",
          "2022-10-07T11:42:50",
          "2022-10-07T12:01:52",
          "2022-10-07T13:24:58",
          "2022-10-07T14:29:25",
          "2022-10-07T14:41:30",
          "2022-10-07T16:04:16",
          "2022-10-07T16:06:04",
          "2022-10-07T16:57:28",
          "2022-10-07T17:50:09",
          "2022-10-07T18:23:51",
          "2022-10-07T18:51:29",
          "2022-10-07T19:53:34",
          "2022-10-07T21:29:38",
          "2022-10-07T21:31:38",
          "2022-10-07T21:33:04",
          "2022-10-07T21:46:12",
          "2022-10-07T22:21:26",
          "2022-10-07T22:25:14",
          "2022-10-07T22:39:18",
          "2022-10-07T23:29:51",
          "2022-10-08T00:11:16",
          "2022-10-08T00:34:54",
          "2022-10-08T02:00:17",
          "2022-10-08T08:58:15",
          "2022-10-08T13:19:41",
          "2022-10-08T13:45:57",
          "2022-10-08T14:46:36",
          "2022-10-08T14:47:06",
          "2022-10-08T17:35:37",
          "2022-10-08T17:40:05",
          "2022-10-08T17:44:23",
          "2022-10-09T10:55:57",
          "2022-10-09T11:28:27",
          "2022-10-09T15:56:42",
          "2022-10-09T17:11:24",
          "2022-10-09T18:04:39",
          "2022-10-09T18:45:17",
          "2022-10-09T19:06:11",
          "2022-10-09T19:47:26",
          "2022-10-09T21:04:46",
          "2022-10-09T21:25:18",
          "2022-10-09T21:28:40",
          "2022-10-09T21:42:34",
          "2022-10-09T22:27:50",
          "2022-10-09T23:42:26",
          "2022-10-10T02:08:58",
          "2022-10-10T04:15:59",
          "2022-10-10T06:29:26",
          "2022-10-10T09:17:45",
          "2022-10-10T10:51:20",
          "2022-10-10T12:33:26",
          "2022-10-10T13:18:05",
          "2022-10-10T13:22:05",
          "2022-10-10T14:14:48",
          "2022-10-10T15:23:59",
          "2022-10-10T21:58:22",
          "2022-10-11T01:26:05",
          "2022-10-11T02:17:53",
          "2022-10-11T02:50:33",
          "2022-10-11T04:30:53",
          "2022-10-11T07:42:48",
          "2022-10-11T12:00:40",
          "2022-10-11T13:12:54",
          "2022-10-11T14:18:05",
          "2022-10-11T15:21:31",
          "2022-10-11T22:21:01",
          "2022-10-12T00:41:48",
          "2022-10-12T01:34:06",
          "2022-10-12T14:36:10",
          "2022-10-12T23:57:20",
          "2022-10-13T00:10:08",
          "2022-10-13T00:16:56",
          "2022-10-13T00:31:18",
          "2022-10-13T00:39:18",
          "2022-10-13T14:19:45",
          "2022-10-13T14:40:33",
          "2022-10-13T16:13:50",
          "2022-10-13T17:01:47",
          "2022-10-13T17:27:07",
          "2022-10-13T17:46:01",
          "2022-10-13T21:03:14",
          "2022-10-13T22:06:00",
          "2022-10-13T23:03:23",
          "2022-10-13T23:03:37",
          "2022-10-13T23:06:17",
          "2022-10-13T23:06:29",
          "2022-10-13T23:06:39",
          "2022-10-14T13:02:08",
          "2022-10-14T13:04:53",
          "2022-10-14T13:13:43",
          "2022-10-14T13:17:55",
          "2022-10-14T13:49:52",
          "2022-10-14T15:18:06",
          "2022-10-14T16:08:18",
          "2022-10-14T16:29:31",
          "2022-10-14T17:17:16",
          "2022-10-14T17:43:26",
          "2022-10-14T18:45:52",
          "2022-10-14T19:43:18",
          "2022-10-14T21:30:07",
          "2022-10-14T23:20:41",
          "2022-10-15T01:07:33",
          "2022-10-15T02:21:23",
          "2022-10-15T03:48:15",
          "2022-10-15T04:09:46",
          "2022-10-15T04:10:00",
          "2022-10-15T04:10:58",
          "2022-10-15T04:11:42",
          "2022-10-15T04:14:02",
          "2022-10-15T04:15:18",
          "2022-10-15T04:18:26",
          "2022-10-15T13:42:08",
          "2022-10-15T14:14:02",
          "2022-10-15T15:07:44",
          "2022-10-15T16:31:16",
          "2022-10-15T18:21:04"
         ],
         "xaxis": "x",
         "y": [
          0,
          0.7751468945501588,
          0.7782872139328977,
          0,
          0,
          0,
          4.6721921278822265,
          0,
          0,
          4.778835924765129,
          4.766932939507376,
          0.7744871265455779,
          0,
          8.728738118801761,
          1.8456485106204121,
          0,
          3.642920454866989,
          5.936915580278669,
          0.7852570529190149,
          0,
          16.39757036925679,
          7.975021415804592,
          2.583862465389648,
          8.379111926952405,
          0.781665898326723,
          13.138380683728988,
          1.6952042618995442,
          8.177819937927666,
          4.269817392258843,
          20.718767360725792,
          7.856548677977004,
          5.512408959524143,
          5.512673526512654,
          3.795170966730179,
          5.879656576363433,
          3.9664820688959757,
          0,
          0.777130320135878,
          0.7771360941164536,
          0.7771406651471909,
          0.7769694645519273,
          13.604839008247717,
          7.041963077160509,
          8.619891100221858,
          1.4575344974998077,
          8.162064645185692,
          8.37079005335342,
          0,
          0,
          7.836486507980596,
          3.6147513499634716,
          0,
          3.2166692883277124,
          1.5492440574381823,
          1.549092830494676,
          7.931720720552756,
          2.3238511384663063,
          8.295623695150907,
          7.7804216488619,
          4.2309851232704,
          1.3405870729205733,
          0.7809977739427552,
          1.3479370228358625,
          0.7808038204071154,
          4.802546994292181,
          48.03648712608865,
          7.4917402073176325,
          3.115351911150263,
          4.2624084030452964,
          1.4146903934363837,
          1.4191568500383573,
          4.31157876468673,
          1.9297449052194653,
          1.9297765066043726,
          4.239157643611254,
          0,
          8.43830052931502,
          1.2700060129703228,
          0,
          18.00506298053176,
          1.734207073041634,
          4.012007070458505,
          8.514876469627092,
          4.898632773700419,
          1.39834445367924,
          1.383774278805731,
          1.3998024401811524,
          8.571670574507733,
          0,
          14.666218757034288,
          15.361523905053206,
          0,
          4.638780760453929,
          4.621909504557818,
          0,
          8.038736413714776,
          31.993182035397396,
          18.633966696349898,
          2.340666510403355,
          0.8013798995648971,
          1.6188060496404777,
          5.002894610522652,
          4.38049414169465,
          4.757660208851327,
          4.467714795551384,
          0,
          5.612956650292116,
          8.955214874324069,
          18.650308455185865,
          0.7978413226331788,
          2.6127232090399803,
          1.4897613433954882,
          0.7876273017706923,
          2.4388662824534264,
          0,
          8.15966891044581,
          7.859334509997158,
          0,
          3.7735619157387688,
          0.808505256507194,
          2.438619132899325,
          0,
          3.8270410987338557,
          18.51949047255088,
          9.214164972952087,
          13.993421190083847,
          0,
          0,
          0.8300190261836063,
          0.829737154547949,
          10.92458021390513,
          0.8296485234031223,
          0.8296180890563939,
          0,
          9.32064392381893,
          0.8544342922217544,
          2.047604263454699,
          1.7969581094329679,
          12.291358738700742,
          19.35010676825948,
          6.881225072611706,
          0.8356383793247515,
          8.791311405279803,
          0.8357232634752456,
          0.8363664031084161,
          0.8357232634752456,
          0.7998368626577447,
          0.7998609204333222,
          0.8007076079048371,
          0.8007147515099656,
          14.84978202650053,
          8.733491061903647,
          4.745663167879334,
          0.8259546963469173,
          4.800096347050609,
          0,
          1.433459985048392,
          0.831415471702559,
          5.121938618308023,
          0,
          0.8159567703473678,
          1.4162748517166353,
          0,
          0.811531076149531,
          0.811531076149531,
          0.8117729936310814,
          0.8117788909109428,
          0.8121271796915046,
          0.8121330805597615,
          0.8123457652914131,
          0.8235038041502307,
          0.8194136203539821,
          30.17110657192801,
          5.014840056544071,
          9.34640857281748
         ],
         "yaxis": "y"
        }
       ],
       "layout": {
        "barmode": "relative",
        "legend": {
         "tracegroupgap": 0
        },
        "template": {
         "data": {
          "bar": [
           {
            "error_x": {
             "color": "#2a3f5f"
            },
            "error_y": {
             "color": "#2a3f5f"
            },
            "marker": {
             "line": {
              "color": "#E5ECF6",
              "width": 0.5
             },
             "pattern": {
              "fillmode": "overlay",
              "size": 10,
              "solidity": 0.2
             }
            },
            "type": "bar"
           }
          ],
          "barpolar": [
           {
            "marker": {
             "line": {
              "color": "#E5ECF6",
              "width": 0.5
             },
             "pattern": {
              "fillmode": "overlay",
              "size": 10,
              "solidity": 0.2
             }
            },
            "type": "barpolar"
           }
          ],
          "carpet": [
           {
            "aaxis": {
             "endlinecolor": "#2a3f5f",
             "gridcolor": "white",
             "linecolor": "white",
             "minorgridcolor": "white",
             "startlinecolor": "#2a3f5f"
            },
            "baxis": {
             "endlinecolor": "#2a3f5f",
             "gridcolor": "white",
             "linecolor": "white",
             "minorgridcolor": "white",
             "startlinecolor": "#2a3f5f"
            },
            "type": "carpet"
           }
          ],
          "choropleth": [
           {
            "colorbar": {
             "outlinewidth": 0,
             "ticks": ""
            },
            "type": "choropleth"
           }
          ],
          "contour": [
           {
            "colorbar": {
             "outlinewidth": 0,
             "ticks": ""
            },
            "colorscale": [
             [
              0,
              "#0d0887"
             ],
             [
              0.1111111111111111,
              "#46039f"
             ],
             [
              0.2222222222222222,
              "#7201a8"
             ],
             [
              0.3333333333333333,
              "#9c179e"
             ],
             [
              0.4444444444444444,
              "#bd3786"
             ],
             [
              0.5555555555555556,
              "#d8576b"
             ],
             [
              0.6666666666666666,
              "#ed7953"
             ],
             [
              0.7777777777777778,
              "#fb9f3a"
             ],
             [
              0.8888888888888888,
              "#fdca26"
             ],
             [
              1,
              "#f0f921"
             ]
            ],
            "type": "contour"
           }
          ],
          "contourcarpet": [
           {
            "colorbar": {
             "outlinewidth": 0,
             "ticks": ""
            },
            "type": "contourcarpet"
           }
          ],
          "heatmap": [
           {
            "colorbar": {
             "outlinewidth": 0,
             "ticks": ""
            },
            "colorscale": [
             [
              0,
              "#0d0887"
             ],
             [
              0.1111111111111111,
              "#46039f"
             ],
             [
              0.2222222222222222,
              "#7201a8"
             ],
             [
              0.3333333333333333,
              "#9c179e"
             ],
             [
              0.4444444444444444,
              "#bd3786"
             ],
             [
              0.5555555555555556,
              "#d8576b"
             ],
             [
              0.6666666666666666,
              "#ed7953"
             ],
             [
              0.7777777777777778,
              "#fb9f3a"
             ],
             [
              0.8888888888888888,
              "#fdca26"
             ],
             [
              1,
              "#f0f921"
             ]
            ],
            "type": "heatmap"
           }
          ],
          "heatmapgl": [
           {
            "colorbar": {
             "outlinewidth": 0,
             "ticks": ""
            },
            "colorscale": [
             [
              0,
              "#0d0887"
             ],
             [
              0.1111111111111111,
              "#46039f"
             ],
             [
              0.2222222222222222,
              "#7201a8"
             ],
             [
              0.3333333333333333,
              "#9c179e"
             ],
             [
              0.4444444444444444,
              "#bd3786"
             ],
             [
              0.5555555555555556,
              "#d8576b"
             ],
             [
              0.6666666666666666,
              "#ed7953"
             ],
             [
              0.7777777777777778,
              "#fb9f3a"
             ],
             [
              0.8888888888888888,
              "#fdca26"
             ],
             [
              1,
              "#f0f921"
             ]
            ],
            "type": "heatmapgl"
           }
          ],
          "histogram": [
           {
            "marker": {
             "pattern": {
              "fillmode": "overlay",
              "size": 10,
              "solidity": 0.2
             }
            },
            "type": "histogram"
           }
          ],
          "histogram2d": [
           {
            "colorbar": {
             "outlinewidth": 0,
             "ticks": ""
            },
            "colorscale": [
             [
              0,
              "#0d0887"
             ],
             [
              0.1111111111111111,
              "#46039f"
             ],
             [
              0.2222222222222222,
              "#7201a8"
             ],
             [
              0.3333333333333333,
              "#9c179e"
             ],
             [
              0.4444444444444444,
              "#bd3786"
             ],
             [
              0.5555555555555556,
              "#d8576b"
             ],
             [
              0.6666666666666666,
              "#ed7953"
             ],
             [
              0.7777777777777778,
              "#fb9f3a"
             ],
             [
              0.8888888888888888,
              "#fdca26"
             ],
             [
              1,
              "#f0f921"
             ]
            ],
            "type": "histogram2d"
           }
          ],
          "histogram2dcontour": [
           {
            "colorbar": {
             "outlinewidth": 0,
             "ticks": ""
            },
            "colorscale": [
             [
              0,
              "#0d0887"
             ],
             [
              0.1111111111111111,
              "#46039f"
             ],
             [
              0.2222222222222222,
              "#7201a8"
             ],
             [
              0.3333333333333333,
              "#9c179e"
             ],
             [
              0.4444444444444444,
              "#bd3786"
             ],
             [
              0.5555555555555556,
              "#d8576b"
             ],
             [
              0.6666666666666666,
              "#ed7953"
             ],
             [
              0.7777777777777778,
              "#fb9f3a"
             ],
             [
              0.8888888888888888,
              "#fdca26"
             ],
             [
              1,
              "#f0f921"
             ]
            ],
            "type": "histogram2dcontour"
           }
          ],
          "mesh3d": [
           {
            "colorbar": {
             "outlinewidth": 0,
             "ticks": ""
            },
            "type": "mesh3d"
           }
          ],
          "parcoords": [
           {
            "line": {
             "colorbar": {
              "outlinewidth": 0,
              "ticks": ""
             }
            },
            "type": "parcoords"
           }
          ],
          "pie": [
           {
            "automargin": true,
            "type": "pie"
           }
          ],
          "scatter": [
           {
            "fillpattern": {
             "fillmode": "overlay",
             "size": 10,
             "solidity": 0.2
            },
            "type": "scatter"
           }
          ],
          "scatter3d": [
           {
            "line": {
             "colorbar": {
              "outlinewidth": 0,
              "ticks": ""
             }
            },
            "marker": {
             "colorbar": {
              "outlinewidth": 0,
              "ticks": ""
             }
            },
            "type": "scatter3d"
           }
          ],
          "scattercarpet": [
           {
            "marker": {
             "colorbar": {
              "outlinewidth": 0,
              "ticks": ""
             }
            },
            "type": "scattercarpet"
           }
          ],
          "scattergeo": [
           {
            "marker": {
             "colorbar": {
              "outlinewidth": 0,
              "ticks": ""
             }
            },
            "type": "scattergeo"
           }
          ],
          "scattergl": [
           {
            "marker": {
             "colorbar": {
              "outlinewidth": 0,
              "ticks": ""
             }
            },
            "type": "scattergl"
           }
          ],
          "scattermapbox": [
           {
            "marker": {
             "colorbar": {
              "outlinewidth": 0,
              "ticks": ""
             }
            },
            "type": "scattermapbox"
           }
          ],
          "scatterpolar": [
           {
            "marker": {
             "colorbar": {
              "outlinewidth": 0,
              "ticks": ""
             }
            },
            "type": "scatterpolar"
           }
          ],
          "scatterpolargl": [
           {
            "marker": {
             "colorbar": {
              "outlinewidth": 0,
              "ticks": ""
             }
            },
            "type": "scatterpolargl"
           }
          ],
          "scatterternary": [
           {
            "marker": {
             "colorbar": {
              "outlinewidth": 0,
              "ticks": ""
             }
            },
            "type": "scatterternary"
           }
          ],
          "surface": [
           {
            "colorbar": {
             "outlinewidth": 0,
             "ticks": ""
            },
            "colorscale": [
             [
              0,
              "#0d0887"
             ],
             [
              0.1111111111111111,
              "#46039f"
             ],
             [
              0.2222222222222222,
              "#7201a8"
             ],
             [
              0.3333333333333333,
              "#9c179e"
             ],
             [
              0.4444444444444444,
              "#bd3786"
             ],
             [
              0.5555555555555556,
              "#d8576b"
             ],
             [
              0.6666666666666666,
              "#ed7953"
             ],
             [
              0.7777777777777778,
              "#fb9f3a"
             ],
             [
              0.8888888888888888,
              "#fdca26"
             ],
             [
              1,
              "#f0f921"
             ]
            ],
            "type": "surface"
           }
          ],
          "table": [
           {
            "cells": {
             "fill": {
              "color": "#EBF0F8"
             },
             "line": {
              "color": "white"
             }
            },
            "header": {
             "fill": {
              "color": "#C8D4E3"
             },
             "line": {
              "color": "white"
             }
            },
            "type": "table"
           }
          ]
         },
         "layout": {
          "annotationdefaults": {
           "arrowcolor": "#2a3f5f",
           "arrowhead": 0,
           "arrowwidth": 1
          },
          "autotypenumbers": "strict",
          "coloraxis": {
           "colorbar": {
            "outlinewidth": 0,
            "ticks": ""
           }
          },
          "colorscale": {
           "diverging": [
            [
             0,
             "#8e0152"
            ],
            [
             0.1,
             "#c51b7d"
            ],
            [
             0.2,
             "#de77ae"
            ],
            [
             0.3,
             "#f1b6da"
            ],
            [
             0.4,
             "#fde0ef"
            ],
            [
             0.5,
             "#f7f7f7"
            ],
            [
             0.6,
             "#e6f5d0"
            ],
            [
             0.7,
             "#b8e186"
            ],
            [
             0.8,
             "#7fbc41"
            ],
            [
             0.9,
             "#4d9221"
            ],
            [
             1,
             "#276419"
            ]
           ],
           "sequential": [
            [
             0,
             "#0d0887"
            ],
            [
             0.1111111111111111,
             "#46039f"
            ],
            [
             0.2222222222222222,
             "#7201a8"
            ],
            [
             0.3333333333333333,
             "#9c179e"
            ],
            [
             0.4444444444444444,
             "#bd3786"
            ],
            [
             0.5555555555555556,
             "#d8576b"
            ],
            [
             0.6666666666666666,
             "#ed7953"
            ],
            [
             0.7777777777777778,
             "#fb9f3a"
            ],
            [
             0.8888888888888888,
             "#fdca26"
            ],
            [
             1,
             "#f0f921"
            ]
           ],
           "sequentialminus": [
            [
             0,
             "#0d0887"
            ],
            [
             0.1111111111111111,
             "#46039f"
            ],
            [
             0.2222222222222222,
             "#7201a8"
            ],
            [
             0.3333333333333333,
             "#9c179e"
            ],
            [
             0.4444444444444444,
             "#bd3786"
            ],
            [
             0.5555555555555556,
             "#d8576b"
            ],
            [
             0.6666666666666666,
             "#ed7953"
            ],
            [
             0.7777777777777778,
             "#fb9f3a"
            ],
            [
             0.8888888888888888,
             "#fdca26"
            ],
            [
             1,
             "#f0f921"
            ]
           ]
          },
          "colorway": [
           "#636efa",
           "#EF553B",
           "#00cc96",
           "#ab63fa",
           "#FFA15A",
           "#19d3f3",
           "#FF6692",
           "#B6E880",
           "#FF97FF",
           "#FECB52"
          ],
          "font": {
           "color": "#2a3f5f"
          },
          "geo": {
           "bgcolor": "white",
           "lakecolor": "white",
           "landcolor": "#E5ECF6",
           "showlakes": true,
           "showland": true,
           "subunitcolor": "white"
          },
          "hoverlabel": {
           "align": "left"
          },
          "hovermode": "closest",
          "mapbox": {
           "style": "light"
          },
          "paper_bgcolor": "white",
          "plot_bgcolor": "#E5ECF6",
          "polar": {
           "angularaxis": {
            "gridcolor": "white",
            "linecolor": "white",
            "ticks": ""
           },
           "bgcolor": "#E5ECF6",
           "radialaxis": {
            "gridcolor": "white",
            "linecolor": "white",
            "ticks": ""
           }
          },
          "scene": {
           "xaxis": {
            "backgroundcolor": "#E5ECF6",
            "gridcolor": "white",
            "gridwidth": 2,
            "linecolor": "white",
            "showbackground": true,
            "ticks": "",
            "zerolinecolor": "white"
           },
           "yaxis": {
            "backgroundcolor": "#E5ECF6",
            "gridcolor": "white",
            "gridwidth": 2,
            "linecolor": "white",
            "showbackground": true,
            "ticks": "",
            "zerolinecolor": "white"
           },
           "zaxis": {
            "backgroundcolor": "#E5ECF6",
            "gridcolor": "white",
            "gridwidth": 2,
            "linecolor": "white",
            "showbackground": true,
            "ticks": "",
            "zerolinecolor": "white"
           }
          },
          "shapedefaults": {
           "line": {
            "color": "#2a3f5f"
           }
          },
          "ternary": {
           "aaxis": {
            "gridcolor": "white",
            "linecolor": "white",
            "ticks": ""
           },
           "baxis": {
            "gridcolor": "white",
            "linecolor": "white",
            "ticks": ""
           },
           "bgcolor": "#E5ECF6",
           "caxis": {
            "gridcolor": "white",
            "linecolor": "white",
            "ticks": ""
           }
          },
          "title": {
           "x": 0.05
          },
          "xaxis": {
           "automargin": true,
           "gridcolor": "white",
           "linecolor": "white",
           "ticks": "",
           "title": {
            "standoff": 15
           },
           "zerolinecolor": "white",
           "zerolinewidth": 2
          },
          "yaxis": {
           "automargin": true,
           "gridcolor": "white",
           "linecolor": "white",
           "ticks": "",
           "title": {
            "standoff": 15
           },
           "zerolinecolor": "white",
           "zerolinewidth": 2
          }
         }
        },
        "title": {
         "text": "Climate Friendly Devcon Participation"
        },
        "xaxis": {
         "anchor": "y",
         "domain": [
          0,
          1
         ],
         "title": {
          "text": "timestamp"
         }
        },
        "yaxis": {
         "anchor": "x",
         "domain": [
          0,
          1
         ],
         "title": {
          "text": "sum of amount"
         }
        }
       }
      }
     },
     "metadata": {},
     "output_type": "display_data"
    }
   ],
   "source": [
    "df.timestamp = pd.to_datetime(df['timestamp'],unit='s')\n",
    "# fig2 = px.histogram(df, x=df.timestamp, y=df.amount, title=\"Climate Friendly Devcon Participation\")\n",
    "fig2.show()"
   ]
  },
  {
   "cell_type": "code",
   "execution_count": null,
   "metadata": {},
   "outputs": [],
   "source": []
  }
 ],
 "metadata": {
  "kernelspec": {
   "display_name": "Python 3.10.6 64-bit ('310-discarbon-poap-dev')",
   "language": "python",
   "name": "python3"
  },
  "language_info": {
   "codemirror_mode": {
    "name": "ipython",
    "version": 3
   },
   "file_extension": ".py",
   "mimetype": "text/x-python",
   "name": "python",
   "nbconvert_exporter": "python",
   "pygments_lexer": "ipython3",
   "version": "3.10.6"
  },
  "orig_nbformat": 4,
  "vscode": {
   "interpreter": {
    "hash": "bfc8b5e02b97145826510e65e2d566debbadb0eea70969361ea9c01b7a7cb71b"
   }
  }
 },
 "nbformat": 4,
 "nbformat_minor": 2
}
